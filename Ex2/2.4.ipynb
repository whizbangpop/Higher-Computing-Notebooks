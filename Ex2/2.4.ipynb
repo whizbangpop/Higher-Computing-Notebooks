{
  "metadata": {
    "language_info": {
      "codemirror_mode": {
        "name": "python",
        "version": 3
      },
      "file_extension": ".py",
      "mimetype": "text/x-python",
      "name": "python",
      "nbconvert_exporter": "python",
      "pygments_lexer": "ipython3",
      "version": "3.8"
    },
    "kernelspec": {
      "name": "python",
      "display_name": "Python (Pyodide)",
      "language": "python"
    }
  },
  "nbformat_minor": 4,
  "nbformat": 4,
  "cells": [
    {
      "cell_type": "markdown",
      "source": "# Exercise 2.4 : Converting Numbers\n\n## Learning Aims:\n* To use the `int` function to validate if a number is an integer or a real number.\n\n",
      "metadata": {}
    },
    {
      "cell_type": "markdown",
      "source": "We have used this before but the int() function will convert a value into an integer variable. There is no rounding performed the decimal portion of any real number is simply truncated.\n\nSee the example below:",
      "metadata": {}
    },
    {
      "cell_type": "code",
      "source": "mynumber = 12.34\nmynewnumber = int(mynumber)\nprint(mynewnumber)",
      "metadata": {
        "trusted": true
      },
      "execution_count": 1,
      "outputs": [
        {
          "name": "stdout",
          "text": "12\n",
          "output_type": "stream"
        }
      ]
    },
    {
      "cell_type": "markdown",
      "source": "Your task is to create a function to check if a number that has been entered is an integer or not.\n\nExample Output:\n```bash\nPlease enter a number to test: 5.0\nThe number is an Integer\n \nPlease enter a number to test: 5.1\nThe number is a real number.\n```",
      "metadata": {}
    },
    {
      "cell_type": "code",
      "source": "# Write your code in the subroutine below. Use the output and instructions above to help.\n\ndef IntCheck():\n    \nIntCheck()",
      "metadata": {},
      "execution_count": null,
      "outputs": []
    },
    {
      "cell_type": "markdown",
      "source": "#### Extension\n\nAdapt your function to return a single parameter but be able to use this to state if a number is positive or negative and use this to implement a program similar to below: \n\n```bash\nPlease enter a number to test: 5.0\nThe number is a positive Integer\n \nPlease enter a number to test: -5.1\nThe number is a negative real number.\n```",
      "metadata": {}
    },
    {
      "cell_type": "code",
      "source": "# Copy and paste the code inside of the function you wrote above into the empty one below, and adapt it to the format asked.\n\ndef ExtIntCheck():\n    \nExtIntCheck()",
      "metadata": {},
      "execution_count": null,
      "outputs": []
    }
  ]
}