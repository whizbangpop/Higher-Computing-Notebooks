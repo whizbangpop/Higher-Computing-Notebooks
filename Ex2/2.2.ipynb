{
 "cells": [
  {
   "cell_type": "markdown",
   "id": "fa7bcca7-c57e-43fb-9110-518985b47e95",
   "metadata": {},
   "source": [
    "## Exercise 2.2 - mplementing a Modular Design \n",
    "\n",
    "#### Learning Aims:\n",
    "* To impliment a given structure design"
   ]
  },
  {
   "cell_type": "markdown",
   "id": "2e12ad10-967f-47f0-8354-34df08b74afb",
   "metadata": {},
   "source": [
    "![image](data:image/gif;base64,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)"
   ]
  },
  {
   "cell_type": "markdown",
   "id": "3f8a0c6f-fdfe-4d4c-ad23-631ec0f22807",
   "metadata": {},
   "source": [
    "In this example you will be given a structure diagram and the top level design in pseudocode. The program should ask the user to input a list of 10 names and valid percentages and create a new list of grades. The names and grades will then be output to the user. 50% is a “Pass” and less than 50% is a “Fail” "
   ]
  },
  {
   "cell_type": "markdown",
   "id": "5172ed41-3e74-47e8-9218-74effb195c3a",
   "metadata": {},
   "source": [
    "### Top Level Design and Data Flow\n",
    "| Main Steps      |  | In | Out |\n",
    "| ----------- | ----------- | ----------- | ----------- |\n",
    "| 1      | Get Names and Valid Percentages |  | names(), percentages() |\n",
    "| 2   | Calculate Grades | percentages() | grades() |\n",
    "| 3 | Display Names and Grades | names(), grades() | | "
   ]
  },
  {
   "cell_type": "markdown",
   "id": "a8a4c714-3c67-4ee9-8445-c18b2ae8f612",
   "metadata": {},
   "source": [
    "#### What to do now:\n",
    "Complete the refinements for the main steps as required using either pseudocode or a structure diagram. Attach it to the assignment on Teams.  \n",
    "\n",
    "Implement and save your program in the code block below. Attach the final, *tested*, code to the assignment on Teams."
   ]
  },
  {
   "cell_type": "code",
   "execution_count": null,
   "id": "a4ef7088-7b73-4a2e-9168-107213324744",
   "metadata": {},
   "outputs": [],
   "source": [
    "# Implimentation of the program shown above. "
   ]
  },
  {
   "cell_type": "markdown",
   "id": "f977f048-b887-4f39-a69e-e5b6e69c0208",
   "metadata": {},
   "source": [
    "## Test Yourself: Modular Design Tasks"
   ]
  },
  {
   "cell_type": "markdown",
   "id": "6ed63731-c55b-4b09-b943-73ed53d4f60e",
   "metadata": {},
   "source": [
    "---\n",
    "### Task 1: VAT Calculator\n",
    "\n",
    "Create a program that will allow a user to enter a price (exc VAT) and then display the price inclusive of VAT (rounded to two decimal places). **At present VAT is 20%.** This should be written in a modular manner and data flow identified. The top level design below should be refined as appropriate. \n",
    "\n",
    "The output should be as following:\n",
    "```\n",
    "Enter the price excluding VAT: £99.99 \n",
    "\n",
    "The price including VAT is £119.99 \n",
    "```"
   ]
  },
  {
   "cell_type": "markdown",
   "id": "850d21f8-6d2a-4f1a-8e16-2450bbf56dc8",
   "metadata": {},
   "source": [
    "Fill out the table (either here on on paper)\n",
    "\n",
    "| Main Steps | | In | Out |\n",
    "| ----- | ----- | ----- | ----- |\n",
    "| 1 | Get Price | | |\n",
    "| 2 | Calculate VAT | | |\n",
    "| 3 | Display price including and excluding VAT | | |"
   ]
  },
  {
   "cell_type": "code",
   "execution_count": null,
   "id": "705a8f5d-6ea6-4afd-b0a7-85297a2d15ae",
   "metadata": {},
   "outputs": [],
   "source": [
    "# Write your code inside of the \"VAT_Calcuator()\" subroutine\n",
    "def VAT_Calculator():\n",
    "    \n",
    "    \n",
    "VAT_Calculator()"
   ]
  }
 ],
 "metadata": {
  "kernelspec": {
   "display_name": "Python 3 (ipykernel)",
   "language": "python",
   "name": "python3"
  },
  "language_info": {
   "codemirror_mode": {
    "name": "ipython",
    "version": 3
   },
   "file_extension": ".py",
   "mimetype": "text/x-python",
   "name": "python",
   "nbconvert_exporter": "python",
   "pygments_lexer": "ipython3",
   "version": "3.10.8"
  }
 },
 "nbformat": 4,
 "nbformat_minor": 5
}
