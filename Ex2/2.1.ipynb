{
  "cells": [
    {
      "cell_type": "markdown",
      "metadata": {
        "id": "view-in-github",
        "colab_type": "text"
      },
      "source": [
        "<a href=\"https://colab.research.google.com/github/whizbangpop/Higher-Computing-Notebooks/blob/main/Ex2/2.1.ipynb\" target=\"_parent\"><img src=\"https://colab.research.google.com/assets/colab-badge.svg\" alt=\"Open In Colab\"/></a>"
      ]
    },
    {
      "cell_type": "markdown",
      "metadata": {
        "tags": [],
        "id": "I8SRvhnJjzXz"
      },
      "source": [
        "## Exercise 2.1 - First Modular Program\n",
        "\n",
        "#### Learning Aims:\n",
        "* To create a modular program with a parameter passing\n",
        "* To identify the data flow between subprograms"
      ]
    },
    {
      "cell_type": "markdown",
      "metadata": {
        "jp-MarkdownHeadingCollapsed": true,
        "tags": [],
        "id": "aTI4pjP3jzX3"
      },
      "source": [
        "#### Required Reading\n",
        "[Parameter Passing Presentation](https://glowscotland-my.sharepoint.com/:p:/g/personal/sa99cgillespie_glow_sch_uk/Eeg9FJLiHe1AuCJI-R91fkUBG4Imw7EQ7XcBeihIwYRbPQ?e=VrZCq4)"
      ]
    },
    {
      "cell_type": "markdown",
      "metadata": {
        "id": "3eUf6ObUjzX4"
      },
      "source": [
        "You are to create a program to ask for two numbers and add them together (showing data flow) \n",
        "\n",
        "### Top Level Design and Data Flow\n",
        "| Main Steps      |  | In | Out |\n",
        "| ----------- | ----------- | ----------- | ----------- |\n",
        "| 1      | Get Input From User |  | number1, number2 |\n",
        "| 2   | Preform Calculation | number1, number2 | answer |\n",
        "| 3 | Display Output | answer | | "
      ]
    },
    {
      "cell_type": "markdown",
      "metadata": {
        "id": "IOV80qozjzX5"
      },
      "source": [
        "### Refinements\n",
        "\n",
        "```1.1 GET number1 FROM KEYBOARD<br>\n",
        "1.2 GET number2 FROM KEYBOARD<br>\n",
        "2.1 answer = number1 + number2<br>\n",
        "3.1 SEND \"Answer is \" & ANSWER TO DISPLAY```"
      ]
    },
    {
      "cell_type": "markdown",
      "metadata": {
        "id": "chLRMglGjzX6"
      },
      "source": [
        "---\n",
        "### How do I use a notebook?\n",
        "Whenever you define functions, variables or anything in a code block, it will be accessable throughout the whole notebook. Normal global and local scopes still apply to variables. \n",
        "\n",
        "#### Is code provided?\n",
        "If so, press the small \"play\" button next to code block, and the code will execute. \n",
        "\n",
        "#### Are you asked to edit the code?\n",
        "Click on the code, and modify it as asked, then press the small \"play\" button next to the code.\n",
        "\n",
        "#### Are you asked to write the code?\n",
        "Click on the empty code block, write the code, then press the small \"play\" button next to the code.\n",
        "\n",
        "---\n",
        "\n",
        "Make sure to refer back to the assignment set for that day, if it asks for code, make sure to copy and paste it into the assignment before submitting as Google Colab does **not** save your progress.\n",
        "\n",
        "---\n",
        "\n",
        "**Remember!** Always look at the intructions/notes above the code, they will always tell you what to do. If in doubt, ask!"
      ]
    },
    {
      "cell_type": "markdown",
      "metadata": {
        "id": "nlv-pfE2jzX8"
      },
      "source": [
        "### Implementation\n",
        "\n",
        "In the following code block, we will define our first function, called `GetInput()`:"
      ]
    },
    {
      "cell_type": "code",
      "execution_count": null,
      "metadata": {
        "id": "MbqNlw5ijzX-"
      },
      "outputs": [],
      "source": [
        "# Function to ask the user to input two numbers\n",
        "def GetInput():\n",
        "    value1 = int(input(\"Please enter Number 1: \"))\n",
        "    value2 = int(input(\"Please enter Number 2: \"))\n",
        "    return value1, value2"
      ]
    },
    {
      "cell_type": "markdown",
      "metadata": {
        "id": "TE8s5tiHjzX_"
      },
      "source": [
        "Now we need to repeat this to define our function to calculate the answer and return it:"
      ]
    },
    {
      "cell_type": "code",
      "execution_count": null,
      "metadata": {
        "id": "L8jkIaurjzYB"
      },
      "outputs": [],
      "source": [
        "# Function to add the two numbers together\n",
        "def CalculateAnswer(num1,num2):\n",
        "    answer = num1 + num2\n",
        "    return answer"
      ]
    },
    {
      "cell_type": "markdown",
      "metadata": {
        "id": "jmd9ORjhjzYC"
      },
      "source": [
        "Now using this technique write your final subroutine to display the answer. We will only refer to this as a subroutine as it doesn’t return any values:\n",
        "\n",
        "You will need to create a subroutine called `DisplayAnswer()`, then pass the \"answer\" parameter to the subroutine, and then get it to print \"Answer is: {answer}\" to the screen"
      ]
    },
    {
      "cell_type": "code",
      "execution_count": null,
      "metadata": {
        "id": "wQ9KI-M8jzYE"
      },
      "outputs": [],
      "source": [
        "# Subroutine to display the answer - Write the code!\n",
        "def DisplayAnswer(ans):\n",
        "    print(ans)"
      ]
    },
    {
      "cell_type": "markdown",
      "metadata": {
        "id": "yNQ3KGR4jzYG"
      },
      "source": [
        "Now we must call the two subroutines/functions from our main program."
      ]
    },
    {
      "cell_type": "code",
      "execution_count": null,
      "metadata": {
        "id": "etsw7bYdjzYH"
      },
      "outputs": [],
      "source": [
        "# Main Program\n",
        "number1,number2 = GetInput()\n",
        "answer = CalculateAnswer(number1,number2)\n",
        "DisplayAnswer(answer)"
      ]
    },
    {
      "cell_type": "markdown",
      "metadata": {
        "id": "2My03D_ljzYI"
      },
      "source": [
        "## Challenge Task 1\n",
        "Now adapt your program saving it in the code block below so that the output from your program is similar to the following: \n",
        "\n",
        "```\n",
        "Enter your first number: 5 \n",
        "Enter your second number: 7 \n",
        "\n",
        "5 + 7 = 12 \n",
        "```"
      ]
    },
    {
      "cell_type": "code",
      "execution_count": null,
      "metadata": {
        "id": "i8LrxarFjzYI"
      },
      "outputs": [],
      "source": [
        "# Write your code here! Use the instructions above to complete the task."
      ]
    }
  ],
  "metadata": {
    "kernelspec": {
      "display_name": "Python 3 (ipykernel)",
      "language": "python",
      "name": "python3"
    },
    "language_info": {
      "codemirror_mode": {
        "name": "ipython",
        "version": 3
      },
      "file_extension": ".py",
      "mimetype": "text/x-python",
      "name": "python",
      "nbconvert_exporter": "python",
      "pygments_lexer": "ipython3",
      "version": "3.10.8"
    },
    "colab": {
      "provenance": [],
      "include_colab_link": true
    }
  },
  "nbformat": 4,
  "nbformat_minor": 0
}