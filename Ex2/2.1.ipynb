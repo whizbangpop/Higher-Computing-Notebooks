{
 "cells": [
  {
   "cell_type": "markdown",
   "metadata": {
    "tags": []
   },
   "source": [
    "## Exercise 2.1 - First Modular Program\n",
    "\n",
    "#### Learning Aims:\n",
    "* To create a modular program with a parameter passing\n",
    "* To identify the data flow between subprograms"
   ]
  },
  {
   "cell_type": "markdown",
   "metadata": {
    "jp-MarkdownHeadingCollapsed": true,
    "tags": []
   },
   "source": [
    "#### Required Reading\n",
    "[Parameter Passing Presentation](https://glowscotland-my.sharepoint.com/:p:/g/personal/sa99cgillespie_glow_sch_uk/Eeg9FJLiHe1AuCJI-R91fkUBG4Imw7EQ7XcBeihIwYRbPQ?e=VrZCq4)"
   ]
  },
  {
   "cell_type": "markdown",
   "metadata": {},
   "source": [
    "You are to create a program to ask for two numbers and add them together (showing data flow) \n",
    "\n",
    "### Top Level Design and Data Flow\n",
    "| Main Steps      |  | In | Out |\n",
    "| ----------- | ----------- | ----------- | ----------- |\n",
    "| 1      | Get Input From User |  | number1, number2 |\n",
    "| 2   | Preform Calculation | number1, number2 | answer |\n",
    "| 3 | Display Output | answer | | "
   ]
  },
  {
   "cell_type": "markdown",
   "metadata": {},
   "source": [
    "### Refinements\n",
    "\n",
    "1.1 GET number1 FROM KEYBOARD<br>\n",
    "1.2 GET number2 FROM KEYBOARD<br>\n",
    "2.1 answer = number1 + number2<br>\n",
    "3.1 SEND \"Answer is \" & ANSWER TO DISPLAY"
   ]
  },
  {
   "cell_type": "markdown",
   "metadata": {},
   "source": [
    "---\n",
    "### How do I use a notebook?\n",
    "Whenever you define functions, variables or anything in a code block, it will be accessable throughout the whole notebook. Normal global and local scopes still apply to variables. \n",
    "\n",
    "#### Is code provided?\n",
    "If so, press the small \"play\" button next to code block, and the code will execute. \n",
    "\n",
    "#### Are you asked to edit the code?\n",
    "Click on the code, and modify it as asked, then press the small \"play\" button next to the code.\n",
    "\n",
    "#### Are you asked to write the code?\n",
    "Click on the empty code block, write the code, then press the small \"play\" button next to the code.\n",
    "\n",
    "---\n",
    "\n",
    "**Remember!** Always look at the intructions/notes above the code, they will always tell you what to do. If in doubt, ask!"
   ]
  },
  {
   "cell_type": "markdown",
   "metadata": {},
   "source": [
    "### Implementation\n",
    "\n",
    "In the following code block, we will define our first function, called \"GetInput()\":"
   ]
  },
  {
   "cell_type": "code",
   "execution_count": 6,
   "metadata": {},
   "outputs": [],
   "source": [
    "# Function to ask the user to input two numbers\n",
    "def GetInput():\n",
    "    value1 = int(input(\"Please enter Number 1: \"))\n",
    "    value2 = int(input(\"Please enter Number 2: \"))\n",
    "    return value1, value2"
   ]
  },
  {
   "cell_type": "markdown",
   "metadata": {},
   "source": [
    "Now we need to repeat this to define our function to calculate the answer and return it:"
   ]
  },
  {
   "cell_type": "code",
   "execution_count": 7,
   "metadata": {},
   "outputs": [],
   "source": [
    "# Function to add the two numbers together\n",
    "def CalculateAnswer(num1,num2):\n",
    "    answer = num1 + num2\n",
    "    return answer"
   ]
  },
  {
   "cell_type": "markdown",
   "metadata": {},
   "source": [
    "Now using this technique write your final subroutine to display the answer. We will only refer to this as a subroutine as it doesn’t return any values:\n",
    "\n",
    "You will need to create a subroutine called \"DisplayAnswer()\", then pass the \"answer\" parameter to the subroutine, and then get it to print \"Answer is: {answer}\" to the screen"
   ]
  },
  {
   "cell_type": "code",
   "execution_count": 8,
   "metadata": {},
   "outputs": [],
   "source": [
    "# Subroutine to display the answer - Write the code!\n"
   ]
  },
  {
   "cell_type": "markdown",
   "metadata": {},
   "source": [
    "Now we must call the two subroutines/functions from our main program."
   ]
  },
  {
   "cell_type": "code",
   "execution_count": 9,
   "metadata": {},
   "outputs": []
   "source": [
    "# Main Program\n",
    "number1,number2 = GetInput()\n",
    "answer = CalculateAnswer(number1,number2)\n",
    "DisplayAnswer(answer)"
   ]
  }
 ],
 "metadata": {
  "kernelspec": {
   "display_name": "Python 3 (ipykernel)",
   "language": "python",
   "name": "python3"
  },
  "language_info": {
   "codemirror_mode": {
    "name": "ipython",
    "version": 3
   },
   "file_extension": ".py",
   "mimetype": "text/x-python",
   "name": "python",
   "nbconvert_exporter": "python",
   "pygments_lexer": "ipython3",
   "version": "3.10.8"
  }
 },
 "nbformat": 4,
 "nbformat_minor": 4
}
