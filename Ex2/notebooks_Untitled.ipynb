{
  "metadata": {
    "language_info": {
      "codemirror_mode": {
        "name": "python",
        "version": 3
      },
      "file_extension": ".py",
      "mimetype": "text/x-python",
      "name": "python",
      "nbconvert_exporter": "python",
      "pygments_lexer": "ipython3",
      "version": "3.8"
    },
    "kernelspec": {
      "name": "python",
      "display_name": "Python (Pyodide)",
      "language": "python"
    }
  },
  "nbformat_minor": 4,
  "nbformat": 4,
  "cells": [
    {
      "cell_type": "markdown",
      "source": "# Exercise 2.3 : Prime Number Function\n\n### Learning Aims:\n* To use the modulus function to check if a number is a prime number or not.\n\nA number is a prime number if it is only divisible by itself and 1. Write a function that will use the modulus function to allow you to return TRUE if a number is a prime number or FALSE if it is not. An example of the modulus function is shown below:",
      "metadata": {}
    },
    {
      "cell_type": "markdown",
      "source": "**Example:**\n5 % 2 = 1 (as 5/2 = 2 remainder 1)",
      "metadata": {}
    },
    {
      "cell_type": "code",
      "source": "# Write your code here! Use the instrctions above to help you.",
      "metadata": {},
      "execution_count": null,
      "outputs": []
    }
  ]
}